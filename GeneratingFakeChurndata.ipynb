{
 "cells": [
  {
   "cell_type": "markdown",
   "id": "b15bd648-0177-4d89-b067-5fed730cb154",
   "metadata": {},
   "source": [
    "## Generation of churn dummy data using Faker\n",
    "This workbook generates dummy churn data using Faker for use in data visualization demos. "
   ]
  },
  {
   "cell_type": "code",
   "execution_count": 1,
   "id": "d601472c-c4c4-4f32-93ba-515aeadbd888",
   "metadata": {},
   "outputs": [],
   "source": [
    "from faker import Faker\n",
    "import pandas as pd\n",
    "import numpy as np\n",
    "import datetime\n",
    "from datetime import date\n",
    "import random\n",
    "import locale"
   ]
  },
  {
   "cell_type": "markdown",
   "id": "ddaed5ff-d1db-49da-85d4-9ad4d4ef5868",
   "metadata": {},
   "source": [
    "### Parameters ###"
   ]
  },
  {
   "cell_type": "code",
   "execution_count": 2,
   "id": "6b0902ba-1480-4cfc-baec-38225aebd0ca",
   "metadata": {},
   "outputs": [],
   "source": [
    "# Locale for randomly generated data\n",
    "faker = Faker('da_DK')\n",
    "\n",
    "# Country for locations\n",
    "location_country = 'DK'\n",
    "\n",
    "# Number of records\n",
    "records = 10\n",
    "\n",
    "# Minimum customer age\n",
    "min_age = 18\n",
    "\n",
    "# Company start date\n",
    "start_date = datetime.date(2010, 1, 1)\n",
    "\n",
    "# Probability of churn\n",
    "churn_rate = 25"
   ]
  },
  {
   "cell_type": "code",
   "execution_count": 3,
   "id": "7882fee5-bc22-4044-8dda-10f3685f1261",
   "metadata": {},
   "outputs": [],
   "source": [
    "# Custom competitor list\n",
    "competitors = ['Insuralux','Arrowhead','Beacon','WeProtectYou','Unity','Capital Protectors','Smart Protect','Insurance For You','Smart Life Insurance','MutuTrust','InsCap']"
   ]
  },
  {
   "cell_type": "markdown",
   "id": "d5318f25-dba2-4844-8fe3-c4d9996e42ad",
   "metadata": {},
   "source": [
    "### Generate data"
   ]
  },
  {
   "cell_type": "code",
   "execution_count": 39,
   "id": "9961153a-5e80-4d61-a328-24e58d25be5b",
   "metadata": {},
   "outputs": [],
   "source": [
    "# Generating dummy data\n",
    "customer ={}\n",
    "\n",
    "for n in range(records):\n",
    "    customer[n]={}\n",
    "    customer[n]['id']= faker.random_number(digits=5)\n",
    "    customer[n]['name']= faker.name()\n",
    "    customer[n]['address']= faker.address()\n",
    "    customer[n]['city']= faker.city()\n",
    "    customer[n]['post_code']= faker.postcode()\n",
    "    # Danish locations on land\n",
    "    customer[n]['location']= faker.local_latlng(location_country)\n",
    "    customer[n]['email']= faker.email()\n",
    "    customer[n]['phone']= faker.phone_number()\n",
    "    # Only adult customers\n",
    "    customer[n]['birth_date'] = faker.date_of_birth(minimum_age=min_age)\n",
    "    customer[n]['start_date'] = faker.date_between(start_date)\n",
    "    # % of churned customers\n",
    "    customer[n]['churn']= faker.boolean(chance_of_getting_true=churn_rate)\n",
    "    customer[n]['churn_date'] = faker.date_between(start_date)\n",
    "    customer[n]['churn_probability'] = faker.pyfloat(min_value=0,max_value=1)\n",
    "    customer[n]['competitor'] = random.choice(competitors)\n",
    "    # Customer value assuming a normal distribution\n",
    "    customer[n]['customer_value'] = np.random.normal(loc=25000,scale=10000)"
   ]
  },
  {
   "cell_type": "code",
   "execution_count": 40,
   "id": "96df0238-c0cd-4d36-b585-33e1f37d6d18",
   "metadata": {},
   "outputs": [],
   "source": [
    "# Convert dictionary to dataframes\n",
    "churn_df = pd.DataFrame.from_dict(customer,orient='index')"
   ]
  },
  {
   "cell_type": "markdown",
   "id": "caba835b-4986-4a2d-987c-a41320751924",
   "metadata": {},
   "source": [
    "### A little cleanup"
   ]
  },
  {
   "cell_type": "code",
   "execution_count": 41,
   "id": "8a8426dd-aa0a-4e7b-9a2e-57236c77c252",
   "metadata": {},
   "outputs": [],
   "source": [
    "churn_df.loc[churn_df['churn'] == False,'churn_date'] = np.nan"
   ]
  },
  {
   "cell_type": "code",
   "execution_count": 42,
   "id": "fb34394c-a05f-4e5d-8a4e-59c2486f30e4",
   "metadata": {},
   "outputs": [],
   "source": [
    "def calculate_age(born):\n",
    "    today = date.today()\n",
    "    return today.year - born.year - ((today.month, today.day) < (born.month, born.day))"
   ]
  },
  {
   "cell_type": "code",
   "execution_count": 43,
   "id": "565fc9da-12b7-4a06-ba93-564868546f4e",
   "metadata": {},
   "outputs": [],
   "source": [
    "churn_df['age'] = churn_df['birth_date'].apply(calculate_age)"
   ]
  },
  {
   "cell_type": "code",
   "execution_count": 44,
   "id": "fdd34863-ce67-4606-b069-fbfbe9c50312",
   "metadata": {},
   "outputs": [
    {
     "data": {
      "text/html": [
       "<div>\n",
       "<style scoped>\n",
       "    .dataframe tbody tr th:only-of-type {\n",
       "        vertical-align: middle;\n",
       "    }\n",
       "\n",
       "    .dataframe tbody tr th {\n",
       "        vertical-align: top;\n",
       "    }\n",
       "\n",
       "    .dataframe thead th {\n",
       "        text-align: right;\n",
       "    }\n",
       "</style>\n",
       "<table border=\"1\" class=\"dataframe\">\n",
       "  <thead>\n",
       "    <tr style=\"text-align: right;\">\n",
       "      <th></th>\n",
       "      <th>id</th>\n",
       "      <th>name</th>\n",
       "      <th>address</th>\n",
       "      <th>city</th>\n",
       "      <th>post_code</th>\n",
       "      <th>location</th>\n",
       "      <th>email</th>\n",
       "      <th>phone</th>\n",
       "      <th>birth_date</th>\n",
       "      <th>start_date</th>\n",
       "      <th>churn</th>\n",
       "      <th>churn_date</th>\n",
       "      <th>churn_probability</th>\n",
       "      <th>competitor</th>\n",
       "      <th>customer_value</th>\n",
       "      <th>age</th>\n",
       "    </tr>\n",
       "  </thead>\n",
       "  <tbody>\n",
       "    <tr>\n",
       "      <th>0</th>\n",
       "      <td>40535</td>\n",
       "      <td>Univ.Prof. Malene Mathiasen</td>\n",
       "      <td>Kjeldsgårds Allé 923\\n4937 Bogø By</td>\n",
       "      <td>Brønderslev</td>\n",
       "      <td>6458</td>\n",
       "      <td>(55.67938, 12.53463, Frederiksberg, DK, Europe...</td>\n",
       "      <td>bolsen@example.org</td>\n",
       "      <td>27902379</td>\n",
       "      <td>1997-09-23</td>\n",
       "      <td>2013-06-05</td>\n",
       "      <td>False</td>\n",
       "      <td>NaN</td>\n",
       "      <td>0.120037</td>\n",
       "      <td>Arrowhead</td>\n",
       "      <td>46270.495575</td>\n",
       "      <td>25</td>\n",
       "    </tr>\n",
       "    <tr>\n",
       "      <th>1</th>\n",
       "      <td>90389</td>\n",
       "      <td>Prof. Kirstine Paulsen</td>\n",
       "      <td>Ringholm Allé 712\\n3146 Ulstrup</td>\n",
       "      <td>Trustrup</td>\n",
       "      <td>2959</td>\n",
       "      <td>(55.67938, 12.53463, Frederiksberg, DK, Europe...</td>\n",
       "      <td>knudsentina@example.com</td>\n",
       "      <td>6947 9222</td>\n",
       "      <td>1963-07-27</td>\n",
       "      <td>2014-05-29</td>\n",
       "      <td>False</td>\n",
       "      <td>NaN</td>\n",
       "      <td>0.500000</td>\n",
       "      <td>WeProtectYou</td>\n",
       "      <td>21144.347073</td>\n",
       "      <td>59</td>\n",
       "    </tr>\n",
       "    <tr>\n",
       "      <th>2</th>\n",
       "      <td>89911</td>\n",
       "      <td>Prof. Line Madsen</td>\n",
       "      <td>Southamptongade 478\\n2272 Tikøb</td>\n",
       "      <td>Vejle</td>\n",
       "      <td>1922</td>\n",
       "      <td>(55.67938, 12.53463, Frederiksberg, DK, Europe...</td>\n",
       "      <td>lundfrode@example.net</td>\n",
       "      <td>+45 9891 2596</td>\n",
       "      <td>1940-04-06</td>\n",
       "      <td>2017-12-10</td>\n",
       "      <td>False</td>\n",
       "      <td>NaN</td>\n",
       "      <td>0.826438</td>\n",
       "      <td>MutuTrust</td>\n",
       "      <td>32980.883229</td>\n",
       "      <td>82</td>\n",
       "    </tr>\n",
       "    <tr>\n",
       "      <th>3</th>\n",
       "      <td>19881</td>\n",
       "      <td>Sara Lind</td>\n",
       "      <td>Knabrovej 889\\n7118 Stokkemarke</td>\n",
       "      <td>Bandholm</td>\n",
       "      <td>4789</td>\n",
       "      <td>(55.67938, 12.53463, Frederiksberg, DK, Europe...</td>\n",
       "      <td>henriksenragnar@example.org</td>\n",
       "      <td>+45 36 74 28 29</td>\n",
       "      <td>1950-01-01</td>\n",
       "      <td>2021-03-17</td>\n",
       "      <td>False</td>\n",
       "      <td>NaN</td>\n",
       "      <td>0.990467</td>\n",
       "      <td>WeProtectYou</td>\n",
       "      <td>14534.883861</td>\n",
       "      <td>73</td>\n",
       "    </tr>\n",
       "    <tr>\n",
       "      <th>4</th>\n",
       "      <td>11459</td>\n",
       "      <td>Bettina Lassen</td>\n",
       "      <td>Rysensteensgade 7\\n1570 København</td>\n",
       "      <td>Strøby</td>\n",
       "      <td>7614</td>\n",
       "      <td>(55.67938, 12.53463, Frederiksberg, DK, Europe...</td>\n",
       "      <td>uchristiansen@example.net</td>\n",
       "      <td>1004 8464</td>\n",
       "      <td>1934-07-30</td>\n",
       "      <td>2011-05-09</td>\n",
       "      <td>False</td>\n",
       "      <td>NaN</td>\n",
       "      <td>0.131350</td>\n",
       "      <td>Insuralux</td>\n",
       "      <td>41816.922214</td>\n",
       "      <td>88</td>\n",
       "    </tr>\n",
       "  </tbody>\n",
       "</table>\n",
       "</div>"
      ],
      "text/plain": [
       "      id                         name                             address  \\\n",
       "0  40535  Univ.Prof. Malene Mathiasen  Kjeldsgårds Allé 923\\n4937 Bogø By   \n",
       "1  90389       Prof. Kirstine Paulsen     Ringholm Allé 712\\n3146 Ulstrup   \n",
       "2  89911            Prof. Line Madsen     Southamptongade 478\\n2272 Tikøb   \n",
       "3  19881                    Sara Lind     Knabrovej 889\\n7118 Stokkemarke   \n",
       "4  11459               Bettina Lassen   Rysensteensgade 7\\n1570 København   \n",
       "\n",
       "          city post_code                                           location  \\\n",
       "0  Brønderslev      6458  (55.67938, 12.53463, Frederiksberg, DK, Europe...   \n",
       "1     Trustrup      2959  (55.67938, 12.53463, Frederiksberg, DK, Europe...   \n",
       "2        Vejle      1922  (55.67938, 12.53463, Frederiksberg, DK, Europe...   \n",
       "3     Bandholm      4789  (55.67938, 12.53463, Frederiksberg, DK, Europe...   \n",
       "4       Strøby      7614  (55.67938, 12.53463, Frederiksberg, DK, Europe...   \n",
       "\n",
       "                         email            phone  birth_date  start_date  \\\n",
       "0           bolsen@example.org         27902379  1997-09-23  2013-06-05   \n",
       "1      knudsentina@example.com        6947 9222  1963-07-27  2014-05-29   \n",
       "2        lundfrode@example.net    +45 9891 2596  1940-04-06  2017-12-10   \n",
       "3  henriksenragnar@example.org  +45 36 74 28 29  1950-01-01  2021-03-17   \n",
       "4    uchristiansen@example.net        1004 8464  1934-07-30  2011-05-09   \n",
       "\n",
       "   churn churn_date  churn_probability    competitor  customer_value  age  \n",
       "0  False        NaN           0.120037     Arrowhead    46270.495575   25  \n",
       "1  False        NaN           0.500000  WeProtectYou    21144.347073   59  \n",
       "2  False        NaN           0.826438     MutuTrust    32980.883229   82  \n",
       "3  False        NaN           0.990467  WeProtectYou    14534.883861   73  \n",
       "4  False        NaN           0.131350     Insuralux    41816.922214   88  "
      ]
     },
     "execution_count": 44,
     "metadata": {},
     "output_type": "execute_result"
    }
   ],
   "source": [
    "churn_df.head()"
   ]
  },
  {
   "cell_type": "markdown",
   "id": "c862eda7-29e9-4276-b0ff-e4a3b87d0d6a",
   "metadata": {},
   "source": [
    "### Export to csv"
   ]
  },
  {
   "cell_type": "code",
   "execution_count": 45,
   "id": "426cd80d-b0ec-40ed-938a-17c9325d9714",
   "metadata": {},
   "outputs": [],
   "source": [
    "# Export to csv\n",
    "churn_df.to_csv('/Users/lars/churn.csv',header=True)"
   ]
  },
  {
   "cell_type": "code",
   "execution_count": null,
   "id": "69ef5705-58c8-4ba1-9f1a-b0ed831ccd15",
   "metadata": {},
   "outputs": [],
   "source": []
  }
 ],
 "metadata": {
  "kernelspec": {
   "display_name": "Python 3 (ipykernel)",
   "language": "python",
   "name": "python3"
  },
  "language_info": {
   "codemirror_mode": {
    "name": "ipython",
    "version": 3
   },
   "file_extension": ".py",
   "mimetype": "text/x-python",
   "name": "python",
   "nbconvert_exporter": "python",
   "pygments_lexer": "ipython3",
   "version": "3.9.13"
  }
 },
 "nbformat": 4,
 "nbformat_minor": 5
}
