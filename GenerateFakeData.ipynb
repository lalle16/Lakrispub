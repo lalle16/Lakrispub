{
 "cells": [
  {
   "cell_type": "markdown",
   "id": "b15bd648-0177-4d89-b067-5fed730cb154",
   "metadata": {},
   "source": [
    "## Generation of churn dummy data using Faker\n",
    "This workbook generates dummy churn data using Faker for use in data visualization demos. \n",
    "\n",
    "The dataset variables consists of:  \n",
    "- General demographic data\n",
    "- Customer start date\n",
    "- If the customer churned or not\n",
    "- Churn data\n",
    "- Churn probability\n",
    "- Competitor that \"stole\" the customer\n",
    "- Customer value in the shape of a normal distribution (can be used as sales, portfolio value etc.)\n",
    "\n",
    "Locale can be changed to generate location specific data. Default is Danish."
   ]
  },
  {
   "cell_type": "code",
   "execution_count": 1,
   "id": "d601472c-c4c4-4f32-93ba-515aeadbd888",
   "metadata": {},
   "outputs": [],
   "source": [
    "from faker import Faker\n",
    "import pandas as pd\n",
    "import numpy as np\n",
    "import datetime\n",
    "from datetime import date\n",
    "import random\n",
    "import locale"
   ]
  },
  {
   "cell_type": "markdown",
   "id": "ddaed5ff-d1db-49da-85d4-9ad4d4ef5868",
   "metadata": {},
   "source": [
    "### Parameters ###"
   ]
  },
  {
   "cell_type": "code",
   "execution_count": 16,
   "id": "6b0902ba-1480-4cfc-baec-38225aebd0ca",
   "metadata": {},
   "outputs": [],
   "source": [
    "# Locale for randomly generated data\n",
    "faker = Faker('da_DK')\n",
    "\n",
    "# Country for locations\n",
    "location_country = 'DK'\n",
    "\n",
    "# Number of records\n",
    "records = 5000\n",
    "\n",
    "# Minimum customer age\n",
    "min_age = 18\n",
    "\n",
    "# Company start date\n",
    "start_date = datetime.date(2010, 1, 1)\n",
    "\n",
    "# Probability of churn\n",
    "churn_rate = 25"
   ]
  },
  {
   "cell_type": "code",
   "execution_count": 17,
   "id": "7882fee5-bc22-4044-8dda-10f3685f1261",
   "metadata": {},
   "outputs": [],
   "source": [
    "# Custom competitor list\n",
    "competitors = ['Insuralux','Arrowhead','Beacon','WeProtectYou','Unity','Capital Protectors','Smart Protect','Insurance For You','Smart Life Insurance','MutuTrust','InsCap']"
   ]
  },
  {
   "cell_type": "markdown",
   "id": "d5318f25-dba2-4844-8fe3-c4d9996e42ad",
   "metadata": {},
   "source": [
    "### Generate data"
   ]
  },
  {
   "cell_type": "code",
   "execution_count": 18,
   "id": "9961153a-5e80-4d61-a328-24e58d25be5b",
   "metadata": {},
   "outputs": [],
   "source": [
    "# Generating dummy data\n",
    "customer ={}\n",
    "\n",
    "for n in range(records):\n",
    "    customer[n]={}\n",
    "    customer[n]['id']= faker.random_number(digits=5)\n",
    "    customer[n]['name']= faker.name()\n",
    "    customer[n]['address']= faker.address()\n",
    "    customer[n]['city']= faker.city()\n",
    "    customer[n]['post_code']= faker.postcode()\n",
    "    # Danish locations on land\n",
    "    customer[n]['location']= faker.local_latlng(location_country)\n",
    "    customer[n]['email']= faker.email()\n",
    "    customer[n]['phone']= faker.phone_number()\n",
    "    # Only adult customers\n",
    "    customer[n]['birth_date'] = faker.date_of_birth(minimum_age=min_age)\n",
    "    customer[n]['start_date'] = faker.date_between(start_date)\n",
    "    # % of churned customers\n",
    "    customer[n]['churn']= faker.boolean(chance_of_getting_true=churn_rate)\n",
    "    customer[n]['churn_date'] = faker.date_between(start_date)\n",
    "    customer[n]['churn_probability'] = faker.pyfloat(min_value=0,max_value=1)\n",
    "    customer[n]['competitor'] = random.choice(competitors)\n",
    "    # Customer value assuming a normal distribution\n",
    "    customer[n]['customer_value'] = np.random.normal(loc=25000,scale=10000)"
   ]
  },
  {
   "cell_type": "code",
   "execution_count": 19,
   "id": "96df0238-c0cd-4d36-b585-33e1f37d6d18",
   "metadata": {},
   "outputs": [],
   "source": [
    "# Convert dictionary to dataframes\n",
    "churn_df = pd.DataFrame.from_dict(customer,orient='index')"
   ]
  },
  {
   "cell_type": "markdown",
   "id": "caba835b-4986-4a2d-987c-a41320751924",
   "metadata": {},
   "source": [
    "### A little cleanup"
   ]
  },
  {
   "cell_type": "code",
   "execution_count": 20,
   "id": "8a8426dd-aa0a-4e7b-9a2e-57236c77c252",
   "metadata": {},
   "outputs": [],
   "source": [
    "churn_df.loc[churn_df['churn'] == False,'churn_date'] = np.nan"
   ]
  },
  {
   "cell_type": "code",
   "execution_count": 21,
   "id": "fb34394c-a05f-4e5d-8a4e-59c2486f30e4",
   "metadata": {},
   "outputs": [],
   "source": [
    "def calculate_age(born):\n",
    "    today = date.today()\n",
    "    return today.year - born.year - ((today.month, today.day) < (born.month, born.day))"
   ]
  },
  {
   "cell_type": "code",
   "execution_count": 22,
   "id": "565fc9da-12b7-4a06-ba93-564868546f4e",
   "metadata": {},
   "outputs": [],
   "source": [
    "churn_df['age'] = churn_df['birth_date'].apply(calculate_age)"
   ]
  },
  {
   "cell_type": "code",
   "execution_count": 23,
   "id": "fdd34863-ce67-4606-b069-fbfbe9c50312",
   "metadata": {},
   "outputs": [
    {
     "data": {
      "text/html": [
       "<div>\n",
       "<style scoped>\n",
       "    .dataframe tbody tr th:only-of-type {\n",
       "        vertical-align: middle;\n",
       "    }\n",
       "\n",
       "    .dataframe tbody tr th {\n",
       "        vertical-align: top;\n",
       "    }\n",
       "\n",
       "    .dataframe thead th {\n",
       "        text-align: right;\n",
       "    }\n",
       "</style>\n",
       "<table border=\"1\" class=\"dataframe\">\n",
       "  <thead>\n",
       "    <tr style=\"text-align: right;\">\n",
       "      <th></th>\n",
       "      <th>id</th>\n",
       "      <th>name</th>\n",
       "      <th>address</th>\n",
       "      <th>city</th>\n",
       "      <th>post_code</th>\n",
       "      <th>location</th>\n",
       "      <th>email</th>\n",
       "      <th>phone</th>\n",
       "      <th>birth_date</th>\n",
       "      <th>start_date</th>\n",
       "      <th>churn</th>\n",
       "      <th>churn_date</th>\n",
       "      <th>churn_probability</th>\n",
       "      <th>competitor</th>\n",
       "      <th>customer_value</th>\n",
       "      <th>age</th>\n",
       "    </tr>\n",
       "  </thead>\n",
       "  <tbody>\n",
       "    <tr>\n",
       "      <th>0</th>\n",
       "      <td>7724</td>\n",
       "      <td>Dr. Per Mathiasen</td>\n",
       "      <td>Rismosevej 4\\n5982 Gentofte</td>\n",
       "      <td>Højslev</td>\n",
       "      <td>8513</td>\n",
       "      <td>(55.67938, 12.53463, Frederiksberg, DK, Europe...</td>\n",
       "      <td>borisjohansen@example.net</td>\n",
       "      <td>+45 49 78 57 40</td>\n",
       "      <td>1951-11-23</td>\n",
       "      <td>2013-12-01</td>\n",
       "      <td>False</td>\n",
       "      <td>NaN</td>\n",
       "      <td>0.160670</td>\n",
       "      <td>Beacon</td>\n",
       "      <td>6742.754982</td>\n",
       "      <td>71</td>\n",
       "    </tr>\n",
       "    <tr>\n",
       "      <th>1</th>\n",
       "      <td>11706</td>\n",
       "      <td>Inga Clausen-Holm</td>\n",
       "      <td>Enghave Allé 18\\n7321 Sydals</td>\n",
       "      <td>Hobro</td>\n",
       "      <td>7254</td>\n",
       "      <td>(55.67938, 12.53463, Frederiksberg, DK, Europe...</td>\n",
       "      <td>eriksennicolai@example.org</td>\n",
       "      <td>+45 26979353</td>\n",
       "      <td>1993-08-16</td>\n",
       "      <td>2022-08-25</td>\n",
       "      <td>False</td>\n",
       "      <td>NaN</td>\n",
       "      <td>0.390000</td>\n",
       "      <td>Smart Life Insurance</td>\n",
       "      <td>23402.995223</td>\n",
       "      <td>29</td>\n",
       "    </tr>\n",
       "    <tr>\n",
       "      <th>2</th>\n",
       "      <td>30001</td>\n",
       "      <td>Hr Ivan Bruun</td>\n",
       "      <td>Rødkløvervej 69\\n2897 Mørkøv</td>\n",
       "      <td>Skovlunde</td>\n",
       "      <td>6859</td>\n",
       "      <td>(55.67938, 12.53463, Frederiksberg, DK, Europe...</td>\n",
       "      <td>dagnymikkelsen@example.com</td>\n",
       "      <td>17423619</td>\n",
       "      <td>1977-12-13</td>\n",
       "      <td>2010-09-20</td>\n",
       "      <td>False</td>\n",
       "      <td>NaN</td>\n",
       "      <td>0.877329</td>\n",
       "      <td>MutuTrust</td>\n",
       "      <td>19156.903423</td>\n",
       "      <td>45</td>\n",
       "    </tr>\n",
       "    <tr>\n",
       "      <th>3</th>\n",
       "      <td>7024</td>\n",
       "      <td>Kent Winther</td>\n",
       "      <td>Lille Kannike Allé 9\\n9850 Vig</td>\n",
       "      <td>Ballerup</td>\n",
       "      <td>5345</td>\n",
       "      <td>(55.67938, 12.53463, Frederiksberg, DK, Europe...</td>\n",
       "      <td>vestergaardmatthias@example.com</td>\n",
       "      <td>+45 55153274</td>\n",
       "      <td>1914-04-27</td>\n",
       "      <td>2010-04-07</td>\n",
       "      <td>False</td>\n",
       "      <td>NaN</td>\n",
       "      <td>0.701186</td>\n",
       "      <td>Insuralux</td>\n",
       "      <td>14279.754803</td>\n",
       "      <td>108</td>\n",
       "    </tr>\n",
       "    <tr>\n",
       "      <th>4</th>\n",
       "      <td>32317</td>\n",
       "      <td>Fru Ane Carlsen</td>\n",
       "      <td>Antoinettegade 5\\n8796 Ølsted</td>\n",
       "      <td>Balle</td>\n",
       "      <td>4439</td>\n",
       "      <td>(55.67938, 12.53463, Frederiksberg, DK, Europe...</td>\n",
       "      <td>kjohansen@example.com</td>\n",
       "      <td>3164 7839</td>\n",
       "      <td>2000-06-30</td>\n",
       "      <td>2016-07-01</td>\n",
       "      <td>False</td>\n",
       "      <td>NaN</td>\n",
       "      <td>0.134293</td>\n",
       "      <td>Arrowhead</td>\n",
       "      <td>22715.562717</td>\n",
       "      <td>22</td>\n",
       "    </tr>\n",
       "  </tbody>\n",
       "</table>\n",
       "</div>"
      ],
      "text/plain": [
       "      id               name                         address       city  \\\n",
       "0   7724  Dr. Per Mathiasen     Rismosevej 4\\n5982 Gentofte    Højslev   \n",
       "1  11706  Inga Clausen-Holm    Enghave Allé 18\\n7321 Sydals      Hobro   \n",
       "2  30001      Hr Ivan Bruun    Rødkløvervej 69\\n2897 Mørkøv  Skovlunde   \n",
       "3   7024       Kent Winther  Lille Kannike Allé 9\\n9850 Vig   Ballerup   \n",
       "4  32317    Fru Ane Carlsen   Antoinettegade 5\\n8796 Ølsted      Balle   \n",
       "\n",
       "  post_code                                           location  \\\n",
       "0      8513  (55.67938, 12.53463, Frederiksberg, DK, Europe...   \n",
       "1      7254  (55.67938, 12.53463, Frederiksberg, DK, Europe...   \n",
       "2      6859  (55.67938, 12.53463, Frederiksberg, DK, Europe...   \n",
       "3      5345  (55.67938, 12.53463, Frederiksberg, DK, Europe...   \n",
       "4      4439  (55.67938, 12.53463, Frederiksberg, DK, Europe...   \n",
       "\n",
       "                             email            phone  birth_date  start_date  \\\n",
       "0        borisjohansen@example.net  +45 49 78 57 40  1951-11-23  2013-12-01   \n",
       "1       eriksennicolai@example.org     +45 26979353  1993-08-16  2022-08-25   \n",
       "2       dagnymikkelsen@example.com         17423619  1977-12-13  2010-09-20   \n",
       "3  vestergaardmatthias@example.com     +45 55153274  1914-04-27  2010-04-07   \n",
       "4            kjohansen@example.com        3164 7839  2000-06-30  2016-07-01   \n",
       "\n",
       "   churn churn_date  churn_probability            competitor  customer_value  \\\n",
       "0  False        NaN           0.160670                Beacon     6742.754982   \n",
       "1  False        NaN           0.390000  Smart Life Insurance    23402.995223   \n",
       "2  False        NaN           0.877329             MutuTrust    19156.903423   \n",
       "3  False        NaN           0.701186             Insuralux    14279.754803   \n",
       "4  False        NaN           0.134293             Arrowhead    22715.562717   \n",
       "\n",
       "   age  \n",
       "0   71  \n",
       "1   29  \n",
       "2   45  \n",
       "3  108  \n",
       "4   22  "
      ]
     },
     "execution_count": 23,
     "metadata": {},
     "output_type": "execute_result"
    }
   ],
   "source": [
    "churn_df.head()"
   ]
  },
  {
   "cell_type": "markdown",
   "id": "c862eda7-29e9-4276-b0ff-e4a3b87d0d6a",
   "metadata": {},
   "source": [
    "### Export to csv"
   ]
  },
  {
   "cell_type": "code",
   "execution_count": 24,
   "id": "426cd80d-b0ec-40ed-938a-17c9325d9714",
   "metadata": {},
   "outputs": [],
   "source": [
    "# Export to csv\n",
    "churn_df.to_csv('/Users/lars/OneDrive/Datasets/fakechurn/churn.csv',header=True)"
   ]
  },
  {
   "cell_type": "code",
   "execution_count": null,
   "id": "69ef5705-58c8-4ba1-9f1a-b0ed831ccd15",
   "metadata": {},
   "outputs": [],
   "source": []
  }
 ],
 "metadata": {
  "kernelspec": {
   "display_name": "Python 3 (ipykernel)",
   "language": "python",
   "name": "python3"
  },
  "language_info": {
   "codemirror_mode": {
    "name": "ipython",
    "version": 3
   },
   "file_extension": ".py",
   "mimetype": "text/x-python",
   "name": "python",
   "nbconvert_exporter": "python",
   "pygments_lexer": "ipython3",
   "version": "3.9.13"
  }
 },
 "nbformat": 4,
 "nbformat_minor": 5
}
