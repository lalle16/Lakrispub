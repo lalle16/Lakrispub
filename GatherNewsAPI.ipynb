{
 "cells": [
  {
   "cell_type": "markdown",
   "id": "9351f554-6e3d-4591-bece-cec00db1b114",
   "metadata": {},
   "source": [
    "# Gather News via API"
   ]
  },
  {
   "cell_type": "markdown",
   "id": "3f089672",
   "metadata": {},
   "source": [
    "This notebook gathers the most recent week of US tech news via NewsAPI.\n",
    "The news are stored in a PostgreSQL database."
   ]
  },
  {
   "cell_type": "code",
   "execution_count": 1,
   "id": "4e6a8be5-5ede-4500-bd31-85721023e80f",
   "metadata": {},
   "outputs": [],
   "source": [
    "import pandas as pd\n",
    "import numpy as np\n",
    "import os\n",
    "import requests\n",
    "import json\n",
    "import re\n",
    "import datetime\n",
    "from newsapi import NewsApiClient\n",
    "from tqdm.notebook import tqdm_notebook\n",
    "from configparser import ConfigParser\n",
    "import sqlalchemy\n",
    "from sqlalchemy import create_engine"
   ]
  },
  {
   "cell_type": "markdown",
   "id": "1dd89b7e-ea0b-4776-a42f-b426c6890848",
   "metadata": {
    "tags": []
   },
   "source": [
    "## Extract from API"
   ]
  },
  {
   "cell_type": "code",
   "execution_count": 2,
   "id": "6a13e30d",
   "metadata": {},
   "outputs": [],
   "source": [
    "# Get keys from config file\n",
    "parser = ConfigParser()\n",
    "_ = parser.read('keys.cfg')"
   ]
  },
  {
   "cell_type": "code",
   "execution_count": 3,
   "id": "31ca64ca-b52c-4159-8a17-b74dd88c4251",
   "metadata": {},
   "outputs": [],
   "source": [
    "# Get API key from config file\n",
    "newsapi = NewsApiClient(api_key=parser.get('newsapi','api_key1'))"
   ]
  },
  {
   "cell_type": "code",
   "execution_count": 4,
   "id": "1ce68ee8",
   "metadata": {},
   "outputs": [],
   "source": [
    "# Get list of sources\n",
    "sources = newsapi.get_sources(language='en',country='us',category='technology')"
   ]
  },
  {
   "cell_type": "code",
   "execution_count": 5,
   "id": "c6708563",
   "metadata": {},
   "outputs": [],
   "source": [
    "# Unnest json\n",
    "sources_df = pd.json_normalize(sources,record_path=['sources'])"
   ]
  },
  {
   "cell_type": "code",
   "execution_count": null,
   "id": "fdb2b5d7",
   "metadata": {},
   "outputs": [],
   "source": [
    "sources_df.head()"
   ]
  },
  {
   "cell_type": "code",
   "execution_count": 7,
   "id": "ee5bfc22",
   "metadata": {},
   "outputs": [],
   "source": [
    "# API call parameters\n",
    "from_date = (datetime.date.today() - datetime.timedelta(days=30)).strftime('%Y-%m-%d')\n",
    "to_date = (datetime.date.today() - datetime.timedelta(days=1)).strftime('%Y-%m-%d')\n",
    "pages = range(1,5)"
   ]
  },
  {
   "cell_type": "code",
   "execution_count": 8,
   "id": "1154c03b-7c1c-4c57-8b48-fc2830599277",
   "metadata": {},
   "outputs": [],
   "source": [
    "# Get 1 page of news\n",
    "def get_news(p):\n",
    "    news_dict = {}\n",
    "    sources = sources_df['id']\n",
    "    for s in sources:\n",
    "        response = newsapi.get_everything(sources=s,\n",
    "                                          page=p,\n",
    "                                          from_param=from_date,\n",
    "                                          to=to_date,\n",
    "                                          language='en',\n",
    "                                          sort_by='popularity')\n",
    "        flatten = pd.json_normalize(response,record_path=['articles'])\n",
    "        news_dict[s] = flatten\n",
    "    news_df = pd.concat([news_dict[s] for s in sources],ignore_index=True)        \n",
    "    return news_df"
   ]
  },
  {
   "cell_type": "code",
   "execution_count": 9,
   "id": "b6cd8ba3-4d9f-45e5-bd29-3b5d2480563d",
   "metadata": {},
   "outputs": [],
   "source": [
    "# Get multiple pages of news\n",
    "def get_news_multiple_pages(pages):\n",
    "    news_dict = {}\n",
    "    for p in tqdm_notebook(pages):\n",
    "        news_dict[p] = get_news(p)\n",
    "    news_df = pd.concat([news_dict[p] for p in pages],ignore_index=True)\n",
    "    return news_df"
   ]
  },
  {
   "cell_type": "code",
   "execution_count": null,
   "id": "bf4cd533-49cf-48d2-b68b-19a9b38e451c",
   "metadata": {},
   "outputs": [],
   "source": [
    "\n",
    "# Call get news function\n",
    "news_df = get_news_multiple_pages(pages)"
   ]
  },
  {
   "cell_type": "code",
   "execution_count": null,
   "id": "b4672cf0",
   "metadata": {},
   "outputs": [],
   "source": [
    "news_df.head()"
   ]
  },
  {
   "cell_type": "markdown",
   "id": "a84f2036",
   "metadata": {},
   "source": [
    "## Save in PostgreSQL database"
   ]
  },
  {
   "cell_type": "code",
   "execution_count": 12,
   "id": "524f377f",
   "metadata": {},
   "outputs": [],
   "source": [
    "# Connect to database\n",
    "engine = create_engine(parser.get('news','conn_string'))"
   ]
  },
  {
   "cell_type": "code",
   "execution_count": null,
   "id": "86915b50",
   "metadata": {},
   "outputs": [],
   "source": [
    "# Append new entries to news, drop duplicates\n",
    "existing_df = pd.read_sql_query('SELECT * FROM news', engine)\n",
    "merged_df = pd.concat([existing_df, news_df]).drop_duplicates()\n",
    "merged_df.to_sql('news', con=engine, if_exists='replace', index=False)"
   ]
  },
  {
   "cell_type": "code",
   "execution_count": null,
   "id": "9b91eaa7",
   "metadata": {},
   "outputs": [],
   "source": [
    "# Append new entries to sources, drop duplicates\n",
    "existing_df = pd.read_sql_query('SELECT * FROM sources', engine)\n",
    "merged_df = pd.concat([existing_df, sources_df]).drop_duplicates()\n",
    "merged_df.to_sql('sources', con=engine, if_exists='replace', index=False)"
   ]
  },
  {
   "cell_type": "markdown",
   "id": "828d919a",
   "metadata": {},
   "source": [
    "## Read from database"
   ]
  },
  {
   "cell_type": "code",
   "execution_count": 19,
   "id": "5c4475ec",
   "metadata": {},
   "outputs": [],
   "source": [
    "# Read from the database and turn into dataframe\n",
    "news_df = pd.read_sql_query('select * from \"news\"',con=engine)\n",
    "sources_df = pd.read_sql_query('select * from \"sources\"',con=engine)"
   ]
  },
  {
   "cell_type": "code",
   "execution_count": null,
   "id": "a2981064",
   "metadata": {},
   "outputs": [],
   "source": [
    "news_df.head()"
   ]
  },
  {
   "cell_type": "code",
   "execution_count": null,
   "id": "8790c4da",
   "metadata": {},
   "outputs": [],
   "source": [
    "sources_df.head()"
   ]
  },
  {
   "cell_type": "code",
   "execution_count": null,
   "id": "30bcb161",
   "metadata": {},
   "outputs": [],
   "source": []
  }
 ],
 "metadata": {
  "kernelspec": {
   "display_name": "dev",
   "language": "python",
   "name": "dev"
  },
  "language_info": {
   "codemirror_mode": {
    "name": "ipython",
    "version": 3
   },
   "file_extension": ".py",
   "mimetype": "text/x-python",
   "name": "python",
   "nbconvert_exporter": "python",
   "pygments_lexer": "ipython3",
   "version": "3.12.3"
  }
 },
 "nbformat": 4,
 "nbformat_minor": 5
}
