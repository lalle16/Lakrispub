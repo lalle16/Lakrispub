{
 "cells": [
  {
   "cell_type": "markdown",
   "id": "9351f554-6e3d-4591-bece-cec00db1b114",
   "metadata": {},
   "source": [
    "# Gather News via API"
   ]
  },
  {
   "cell_type": "markdown",
   "id": "3f089672",
   "metadata": {},
   "source": [
    "This notebook gathers the most recent week of US tech news via NewsAPI.  \n",
    "Credentials are stored in a json file outside the code for security reasons.  \n",
    "Due to the limits on the free plan on NewsApi, I use simple pagination.  \n",
    "The news are stored in an Azure SQL database."
   ]
  },
  {
   "cell_type": "code",
   "execution_count": 1,
   "id": "4e6a8be5-5ede-4500-bd31-85721023e80f",
   "metadata": {},
   "outputs": [],
   "source": [
    "import pandas as pd\n",
    "import json\n",
    "import datetime\n",
    "from newsapi.newsapi_client import NewsApiClient\n",
    "from tqdm.notebook import tqdm_notebook\n",
    "#from tqdm import tqdm\n",
    "from configparser import ConfigParser\n",
    "import sqlalchemy\n",
    "from sqlalchemy import create_engine"
   ]
  },
  {
   "cell_type": "markdown",
   "id": "1dd89b7e-ea0b-4776-a42f-b426c6890848",
   "metadata": {
    "tags": []
   },
   "source": [
    "## Extract from API"
   ]
  },
  {
   "cell_type": "code",
   "execution_count": null,
   "id": "be2eac1a",
   "metadata": {},
   "outputs": [],
   "source": [
    "# Load credentials\n",
    "def load_credentials(path='credentials.json'):\n",
    "    \"\"\"Loads client credentials from a specified path.\"\"\"\n",
    "    try:\n",
    "        with open(path, 'r') as file:\n",
    "            credentials = json.load(file)\n",
    "        return credentials\n",
    "    except FileNotFoundError:\n",
    "        print(f\"Error: The file '{path}' does not exist.\")\n",
    "        return None\n",
    "    except json.JSONDecodeError:\n",
    "        print(f\"Error: The file '{path}' is not a valid JSON.\")\n",
    "        return None"
   ]
  },
  {
   "cell_type": "code",
   "execution_count": null,
   "id": "cbb46a93",
   "metadata": {},
   "outputs": [],
   "source": [
    "credentials = load_credentials()"
   ]
  },
  {
   "cell_type": "code",
   "execution_count": null,
   "id": "5efd95af",
   "metadata": {},
   "outputs": [],
   "source": [
    "api_key1 = credentials['api_key1']"
   ]
  },
  {
   "cell_type": "code",
   "execution_count": 4,
   "id": "31ca64ca-b52c-4159-8a17-b74dd88c4251",
   "metadata": {},
   "outputs": [],
   "source": [
    "# Get API key from config file\n",
    "newsapi = NewsApiClient(api_key1)"
   ]
  },
  {
   "cell_type": "code",
   "execution_count": 5,
   "id": "1ce68ee8",
   "metadata": {},
   "outputs": [],
   "source": [
    "# Get list of sources\n",
    "sources = newsapi.get_sources(language='en',country='us',category='technology')"
   ]
  },
  {
   "cell_type": "code",
   "execution_count": 6,
   "id": "c6708563",
   "metadata": {},
   "outputs": [],
   "source": [
    "# Unnest json\n",
    "sources_df = pd.json_normalize(sources,record_path=['sources'])"
   ]
  },
  {
   "cell_type": "code",
   "execution_count": 7,
   "id": "fdb2b5d7",
   "metadata": {},
   "outputs": [
    {
     "data": {
      "text/html": [
       "<div>\n",
       "<style scoped>\n",
       "    .dataframe tbody tr th:only-of-type {\n",
       "        vertical-align: middle;\n",
       "    }\n",
       "\n",
       "    .dataframe tbody tr th {\n",
       "        vertical-align: top;\n",
       "    }\n",
       "\n",
       "    .dataframe thead th {\n",
       "        text-align: right;\n",
       "    }\n",
       "</style>\n",
       "<table border=\"1\" class=\"dataframe\">\n",
       "  <thead>\n",
       "    <tr style=\"text-align: right;\">\n",
       "      <th></th>\n",
       "      <th>id</th>\n",
       "      <th>name</th>\n",
       "      <th>description</th>\n",
       "      <th>url</th>\n",
       "      <th>category</th>\n",
       "      <th>language</th>\n",
       "      <th>country</th>\n",
       "    </tr>\n",
       "  </thead>\n",
       "  <tbody>\n",
       "    <tr>\n",
       "      <th>0</th>\n",
       "      <td>ars-technica</td>\n",
       "      <td>Ars Technica</td>\n",
       "      <td>The PC enthusiast's resource. Power users and ...</td>\n",
       "      <td>https://arstechnica.com</td>\n",
       "      <td>technology</td>\n",
       "      <td>en</td>\n",
       "      <td>us</td>\n",
       "    </tr>\n",
       "    <tr>\n",
       "      <th>1</th>\n",
       "      <td>crypto-coins-news</td>\n",
       "      <td>Crypto Coins News</td>\n",
       "      <td>Providing breaking cryptocurrency news - focus...</td>\n",
       "      <td>https://www.ccn.com</td>\n",
       "      <td>technology</td>\n",
       "      <td>en</td>\n",
       "      <td>us</td>\n",
       "    </tr>\n",
       "    <tr>\n",
       "      <th>2</th>\n",
       "      <td>engadget</td>\n",
       "      <td>Engadget</td>\n",
       "      <td>Engadget is a web magazine with obsessive dail...</td>\n",
       "      <td>https://www.engadget.com</td>\n",
       "      <td>technology</td>\n",
       "      <td>en</td>\n",
       "      <td>us</td>\n",
       "    </tr>\n",
       "    <tr>\n",
       "      <th>3</th>\n",
       "      <td>hacker-news</td>\n",
       "      <td>Hacker News</td>\n",
       "      <td>Hacker News is a social news website focusing ...</td>\n",
       "      <td>https://news.ycombinator.com</td>\n",
       "      <td>technology</td>\n",
       "      <td>en</td>\n",
       "      <td>us</td>\n",
       "    </tr>\n",
       "    <tr>\n",
       "      <th>4</th>\n",
       "      <td>recode</td>\n",
       "      <td>Recode</td>\n",
       "      <td>Get the latest independent tech news, reviews ...</td>\n",
       "      <td>http://www.recode.net</td>\n",
       "      <td>technology</td>\n",
       "      <td>en</td>\n",
       "      <td>us</td>\n",
       "    </tr>\n",
       "  </tbody>\n",
       "</table>\n",
       "</div>"
      ],
      "text/plain": [
       "                  id               name  \\\n",
       "0       ars-technica       Ars Technica   \n",
       "1  crypto-coins-news  Crypto Coins News   \n",
       "2           engadget           Engadget   \n",
       "3        hacker-news        Hacker News   \n",
       "4             recode             Recode   \n",
       "\n",
       "                                         description  \\\n",
       "0  The PC enthusiast's resource. Power users and ...   \n",
       "1  Providing breaking cryptocurrency news - focus...   \n",
       "2  Engadget is a web magazine with obsessive dail...   \n",
       "3  Hacker News is a social news website focusing ...   \n",
       "4  Get the latest independent tech news, reviews ...   \n",
       "\n",
       "                            url    category language country  \n",
       "0       https://arstechnica.com  technology       en      us  \n",
       "1           https://www.ccn.com  technology       en      us  \n",
       "2      https://www.engadget.com  technology       en      us  \n",
       "3  https://news.ycombinator.com  technology       en      us  \n",
       "4         http://www.recode.net  technology       en      us  "
      ]
     },
     "execution_count": 7,
     "metadata": {},
     "output_type": "execute_result"
    }
   ],
   "source": [
    "sources_df.head()"
   ]
  },
  {
   "cell_type": "code",
   "execution_count": 8,
   "id": "ee5bfc22",
   "metadata": {},
   "outputs": [],
   "source": [
    "# API call parameters\n",
    "from_date = (datetime.date.today() - datetime.timedelta(days=5)).strftime('%Y-%m-%d')\n",
    "to_date = (datetime.date.today() - datetime.timedelta(days=1)).strftime('%Y-%m-%d')\n",
    "pages = range(1,6)"
   ]
  },
  {
   "cell_type": "code",
   "execution_count": 9,
   "id": "1154c03b-7c1c-4c57-8b48-fc2830599277",
   "metadata": {},
   "outputs": [],
   "source": [
    "# Get 1 page of news\n",
    "def get_news(p):\n",
    "    news_dict = {}\n",
    "    sources = sources_df['id']\n",
    "    for s in sources:\n",
    "        response = newsapi.get_everything(sources=s,\n",
    "                                          page=p,\n",
    "                                          from_param=from_date,\n",
    "                                          to=to_date,\n",
    "                                          language='en',\n",
    "                                          sort_by='popularity')\n",
    "        flatten = pd.json_normalize(response,record_path=['articles'])\n",
    "        news_dict[s] = flatten\n",
    "    news_df = pd.concat([news_dict[s] for s in sources],ignore_index=True)        \n",
    "    return news_df"
   ]
  },
  {
   "cell_type": "code",
   "execution_count": 10,
   "id": "b6cd8ba3-4d9f-45e5-bd29-3b5d2480563d",
   "metadata": {},
   "outputs": [],
   "source": [
    "# Get multiple pages of news\n",
    "def get_news_multiple_pages(pages):\n",
    "    news_dict = {}\n",
    "    for p in tqdm_notebook(pages):\n",
    "        news_dict[p] = get_news(p)\n",
    "    news_df = pd.concat([news_dict[p] for p in pages],ignore_index=True)\n",
    "    return news_df"
   ]
  },
  {
   "cell_type": "code",
   "execution_count": 11,
   "id": "bf4cd533-49cf-48d2-b68b-19a9b38e451c",
   "metadata": {},
   "outputs": [
    {
     "data": {
      "application/vnd.jupyter.widget-view+json": {
       "model_id": "82d8e6dcfe3d44379fb9625f2394a497",
       "version_major": 2,
       "version_minor": 0
      },
      "text/plain": [
       "  0%|          | 0/5 [00:00<?, ?it/s]"
      ]
     },
     "metadata": {},
     "output_type": "display_data"
    }
   ],
   "source": [
    "# Call get news function\n",
    "news_df = get_news_multiple_pages(pages)"
   ]
  },
  {
   "cell_type": "code",
   "execution_count": 12,
   "id": "b4672cf0",
   "metadata": {},
   "outputs": [
    {
     "data": {
      "text/html": [
       "<div>\n",
       "<style scoped>\n",
       "    .dataframe tbody tr th:only-of-type {\n",
       "        vertical-align: middle;\n",
       "    }\n",
       "\n",
       "    .dataframe tbody tr th {\n",
       "        vertical-align: top;\n",
       "    }\n",
       "\n",
       "    .dataframe thead th {\n",
       "        text-align: right;\n",
       "    }\n",
       "</style>\n",
       "<table border=\"1\" class=\"dataframe\">\n",
       "  <thead>\n",
       "    <tr style=\"text-align: right;\">\n",
       "      <th></th>\n",
       "      <th>author</th>\n",
       "      <th>title</th>\n",
       "      <th>description</th>\n",
       "      <th>url</th>\n",
       "      <th>urlToImage</th>\n",
       "      <th>publishedAt</th>\n",
       "      <th>content</th>\n",
       "      <th>source.id</th>\n",
       "      <th>source.name</th>\n",
       "    </tr>\n",
       "  </thead>\n",
       "  <tbody>\n",
       "    <tr>\n",
       "      <th>0</th>\n",
       "      <td>None</td>\n",
       "      <td>[Removed]</td>\n",
       "      <td>[Removed]</td>\n",
       "      <td>https://removed.com</td>\n",
       "      <td>None</td>\n",
       "      <td>2025-01-10T16:30:20Z</td>\n",
       "      <td>[Removed]</td>\n",
       "      <td>None</td>\n",
       "      <td>[Removed]</td>\n",
       "    </tr>\n",
       "    <tr>\n",
       "      <th>1</th>\n",
       "      <td>None</td>\n",
       "      <td>[Removed]</td>\n",
       "      <td>[Removed]</td>\n",
       "      <td>https://removed.com</td>\n",
       "      <td>None</td>\n",
       "      <td>2025-01-10T19:28:42Z</td>\n",
       "      <td>[Removed]</td>\n",
       "      <td>None</td>\n",
       "      <td>[Removed]</td>\n",
       "    </tr>\n",
       "    <tr>\n",
       "      <th>2</th>\n",
       "      <td>None</td>\n",
       "      <td>[Removed]</td>\n",
       "      <td>[Removed]</td>\n",
       "      <td>https://removed.com</td>\n",
       "      <td>None</td>\n",
       "      <td>2025-01-10T20:40:31Z</td>\n",
       "      <td>[Removed]</td>\n",
       "      <td>None</td>\n",
       "      <td>[Removed]</td>\n",
       "    </tr>\n",
       "    <tr>\n",
       "      <th>3</th>\n",
       "      <td>None</td>\n",
       "      <td>[Removed]</td>\n",
       "      <td>[Removed]</td>\n",
       "      <td>https://removed.com</td>\n",
       "      <td>None</td>\n",
       "      <td>2025-01-10T13:45:14Z</td>\n",
       "      <td>[Removed]</td>\n",
       "      <td>None</td>\n",
       "      <td>[Removed]</td>\n",
       "    </tr>\n",
       "    <tr>\n",
       "      <th>4</th>\n",
       "      <td>None</td>\n",
       "      <td>[Removed]</td>\n",
       "      <td>[Removed]</td>\n",
       "      <td>https://removed.com</td>\n",
       "      <td>None</td>\n",
       "      <td>2025-01-10T17:15:58Z</td>\n",
       "      <td>[Removed]</td>\n",
       "      <td>None</td>\n",
       "      <td>[Removed]</td>\n",
       "    </tr>\n",
       "  </tbody>\n",
       "</table>\n",
       "</div>"
      ],
      "text/plain": [
       "  author      title description                  url urlToImage  \\\n",
       "0   None  [Removed]   [Removed]  https://removed.com       None   \n",
       "1   None  [Removed]   [Removed]  https://removed.com       None   \n",
       "2   None  [Removed]   [Removed]  https://removed.com       None   \n",
       "3   None  [Removed]   [Removed]  https://removed.com       None   \n",
       "4   None  [Removed]   [Removed]  https://removed.com       None   \n",
       "\n",
       "            publishedAt    content source.id source.name  \n",
       "0  2025-01-10T16:30:20Z  [Removed]      None   [Removed]  \n",
       "1  2025-01-10T19:28:42Z  [Removed]      None   [Removed]  \n",
       "2  2025-01-10T20:40:31Z  [Removed]      None   [Removed]  \n",
       "3  2025-01-10T13:45:14Z  [Removed]      None   [Removed]  \n",
       "4  2025-01-10T17:15:58Z  [Removed]      None   [Removed]  "
      ]
     },
     "execution_count": 12,
     "metadata": {},
     "output_type": "execute_result"
    }
   ],
   "source": [
    "news_df.head()"
   ]
  },
  {
   "cell_type": "markdown",
   "id": "a84f2036",
   "metadata": {},
   "source": [
    "## Save in database"
   ]
  },
  {
   "cell_type": "code",
   "execution_count": 13,
   "id": "3aa6c062",
   "metadata": {},
   "outputs": [],
   "source": [
    "# SQL Server connection details\n",
    "server = credentials['server']\n",
    "database = credentials['database']\n",
    "username = credentials['username']\n",
    "password = credentials['password']"
   ]
  },
  {
   "cell_type": "code",
   "execution_count": 14,
   "id": "6331a37a",
   "metadata": {},
   "outputs": [],
   "source": [
    "conn_str = f'mssql+pyodbc://{username}:{password}@{server}/{database}?driver=ODBC+Driver+18+for+SQL+Server'"
   ]
  },
  {
   "cell_type": "code",
   "execution_count": 15,
   "id": "524f377f",
   "metadata": {},
   "outputs": [],
   "source": [
    "# Connect to database\n",
    "engine = create_engine(conn_str)"
   ]
  },
  {
   "cell_type": "code",
   "execution_count": 18,
   "id": "86915b50",
   "metadata": {},
   "outputs": [
    {
     "data": {
      "text/plain": [
       "217"
      ]
     },
     "execution_count": 18,
     "metadata": {},
     "output_type": "execute_result"
    }
   ],
   "source": [
    "# Append new entries to news, drop duplicates\n",
    "existing_df = pd.read_sql_query('SELECT * FROM news', engine)\n",
    "merged_df = pd.concat([existing_df, news_df]).drop_duplicates()\n",
    "merged_df = merged_df[merged_df['title'] != '[Removed]']\n",
    "merged_df.to_sql('news', con=engine, if_exists='replace', index=False)"
   ]
  },
  {
   "cell_type": "markdown",
   "id": "828d919a",
   "metadata": {},
   "source": [
    "## Read from database"
   ]
  },
  {
   "cell_type": "code",
   "execution_count": 19,
   "id": "5c4475ec",
   "metadata": {},
   "outputs": [],
   "source": [
    "# Read from the database and turn into dataframe\n",
    "news_df = pd.read_sql_query('select * from \"news\"',con=engine)\n",
    "sources_df = pd.read_sql_query('select * from \"sources\"',con=engine)"
   ]
  },
  {
   "cell_type": "code",
   "execution_count": 20,
   "id": "a2981064",
   "metadata": {},
   "outputs": [
    {
     "data": {
      "text/html": [
       "<div>\n",
       "<style scoped>\n",
       "    .dataframe tbody tr th:only-of-type {\n",
       "        vertical-align: middle;\n",
       "    }\n",
       "\n",
       "    .dataframe tbody tr th {\n",
       "        vertical-align: top;\n",
       "    }\n",
       "\n",
       "    .dataframe thead th {\n",
       "        text-align: right;\n",
       "    }\n",
       "</style>\n",
       "<table border=\"1\" class=\"dataframe\">\n",
       "  <thead>\n",
       "    <tr style=\"text-align: right;\">\n",
       "      <th></th>\n",
       "      <th>author</th>\n",
       "      <th>title</th>\n",
       "      <th>description</th>\n",
       "      <th>url</th>\n",
       "      <th>urlToImage</th>\n",
       "      <th>publishedAt</th>\n",
       "      <th>content</th>\n",
       "      <th>source.id</th>\n",
       "      <th>source.name</th>\n",
       "    </tr>\n",
       "  </thead>\n",
       "  <tbody>\n",
       "    <tr>\n",
       "      <th>0</th>\n",
       "      <td>None</td>\n",
       "      <td>Openlayer (YC S21) is looking for a customer e...</td>\n",
       "      <td>About us\\nOpenlayer is solving the AI reliabil...</td>\n",
       "      <td>https://www.ycombinator.com/companies/openlaye...</td>\n",
       "      <td>https://www.ycombinator.com/images/original/mi...</td>\n",
       "      <td>2024-12-19T21:00:59Z</td>\n",
       "      <td>About us\\r\\nOpenlayer is solving the AI reliab...</td>\n",
       "      <td>hacker-news</td>\n",
       "      <td>Hacker News</td>\n",
       "    </tr>\n",
       "    <tr>\n",
       "      <th>1</th>\n",
       "      <td>None</td>\n",
       "      <td>Ocular AI (YC W24) Is Hiring</td>\n",
       "      <td>Ocular AI\\nOcular AI is the data annotation en...</td>\n",
       "      <td>https://www.ycombinator.com/companies/ocular-a...</td>\n",
       "      <td>https://www.ycombinator.com/images/original/mi...</td>\n",
       "      <td>2024-12-26T17:33:54Z</td>\n",
       "      <td>Ocular AI\\r\\nOcular AI is the data annotation ...</td>\n",
       "      <td>hacker-news</td>\n",
       "      <td>Hacker News</td>\n",
       "    </tr>\n",
       "    <tr>\n",
       "      <th>2</th>\n",
       "      <td>cothrun</td>\n",
       "      <td>Decoding the telephony signals in Pink Floyd's...</td>\n",
       "      <td>None</td>\n",
       "      <td>https://news.ycombinator.com/item?id=42485795</td>\n",
       "      <td>None</td>\n",
       "      <td>2024-12-24T05:47:01Z</td>\n",
       "      <td>(Author here) No contradiction.I think what ha...</td>\n",
       "      <td>hacker-news</td>\n",
       "      <td>Hacker News</td>\n",
       "    </tr>\n",
       "    <tr>\n",
       "      <th>3</th>\n",
       "      <td>pmigdal</td>\n",
       "      <td>Show HN: I made a website to semantically sear...</td>\n",
       "      <td>None</td>\n",
       "      <td>https://news.ycombinator.com/item?id=42507116</td>\n",
       "      <td>None</td>\n",
       "      <td>2024-12-26T05:47:01Z</td>\n",
       "      <td>Thank you for the appreciation and great feedb...</td>\n",
       "      <td>hacker-news</td>\n",
       "      <td>Hacker News</td>\n",
       "    </tr>\n",
       "    <tr>\n",
       "      <th>4</th>\n",
       "      <td>lilulo</td>\n",
       "      <td>Build a Low-Cost Drone Using ESP32 | Hacker News</td>\n",
       "      <td>None</td>\n",
       "      <td>https://news.ycombinator.com/item?id=42498648</td>\n",
       "      <td>None</td>\n",
       "      <td>2024-12-25T05:46:58Z</td>\n",
       "      <td>You can start for ~$400 - I just bought parts ...</td>\n",
       "      <td>hacker-news</td>\n",
       "      <td>Hacker News</td>\n",
       "    </tr>\n",
       "  </tbody>\n",
       "</table>\n",
       "</div>"
      ],
      "text/plain": [
       "    author                                              title  \\\n",
       "0     None  Openlayer (YC S21) is looking for a customer e...   \n",
       "1     None                       Ocular AI (YC W24) Is Hiring   \n",
       "2  cothrun  Decoding the telephony signals in Pink Floyd's...   \n",
       "3  pmigdal  Show HN: I made a website to semantically sear...   \n",
       "4   lilulo   Build a Low-Cost Drone Using ESP32 | Hacker News   \n",
       "\n",
       "                                         description  \\\n",
       "0  About us\\nOpenlayer is solving the AI reliabil...   \n",
       "1  Ocular AI\\nOcular AI is the data annotation en...   \n",
       "2                                               None   \n",
       "3                                               None   \n",
       "4                                               None   \n",
       "\n",
       "                                                 url  \\\n",
       "0  https://www.ycombinator.com/companies/openlaye...   \n",
       "1  https://www.ycombinator.com/companies/ocular-a...   \n",
       "2      https://news.ycombinator.com/item?id=42485795   \n",
       "3      https://news.ycombinator.com/item?id=42507116   \n",
       "4      https://news.ycombinator.com/item?id=42498648   \n",
       "\n",
       "                                          urlToImage           publishedAt  \\\n",
       "0  https://www.ycombinator.com/images/original/mi...  2024-12-19T21:00:59Z   \n",
       "1  https://www.ycombinator.com/images/original/mi...  2024-12-26T17:33:54Z   \n",
       "2                                               None  2024-12-24T05:47:01Z   \n",
       "3                                               None  2024-12-26T05:47:01Z   \n",
       "4                                               None  2024-12-25T05:46:58Z   \n",
       "\n",
       "                                             content    source.id  source.name  \n",
       "0  About us\\r\\nOpenlayer is solving the AI reliab...  hacker-news  Hacker News  \n",
       "1  Ocular AI\\r\\nOcular AI is the data annotation ...  hacker-news  Hacker News  \n",
       "2  (Author here) No contradiction.I think what ha...  hacker-news  Hacker News  \n",
       "3  Thank you for the appreciation and great feedb...  hacker-news  Hacker News  \n",
       "4  You can start for ~$400 - I just bought parts ...  hacker-news  Hacker News  "
      ]
     },
     "execution_count": 20,
     "metadata": {},
     "output_type": "execute_result"
    }
   ],
   "source": [
    "news_df.head()"
   ]
  },
  {
   "cell_type": "code",
   "execution_count": 21,
   "id": "8790c4da",
   "metadata": {},
   "outputs": [
    {
     "data": {
      "text/html": [
       "<div>\n",
       "<style scoped>\n",
       "    .dataframe tbody tr th:only-of-type {\n",
       "        vertical-align: middle;\n",
       "    }\n",
       "\n",
       "    .dataframe tbody tr th {\n",
       "        vertical-align: top;\n",
       "    }\n",
       "\n",
       "    .dataframe thead th {\n",
       "        text-align: right;\n",
       "    }\n",
       "</style>\n",
       "<table border=\"1\" class=\"dataframe\">\n",
       "  <thead>\n",
       "    <tr style=\"text-align: right;\">\n",
       "      <th></th>\n",
       "      <th>id</th>\n",
       "      <th>name</th>\n",
       "      <th>description</th>\n",
       "      <th>url</th>\n",
       "      <th>category</th>\n",
       "      <th>language</th>\n",
       "      <th>country</th>\n",
       "    </tr>\n",
       "  </thead>\n",
       "  <tbody>\n",
       "    <tr>\n",
       "      <th>0</th>\n",
       "      <td>ars-technica</td>\n",
       "      <td>Ars Technica</td>\n",
       "      <td>The PC enthusiast's resource. Power users and ...</td>\n",
       "      <td>https://arstechnica.com</td>\n",
       "      <td>technology</td>\n",
       "      <td>en</td>\n",
       "      <td>us</td>\n",
       "    </tr>\n",
       "    <tr>\n",
       "      <th>1</th>\n",
       "      <td>crypto-coins-news</td>\n",
       "      <td>Crypto Coins News</td>\n",
       "      <td>Providing breaking cryptocurrency news - focus...</td>\n",
       "      <td>https://www.ccn.com</td>\n",
       "      <td>technology</td>\n",
       "      <td>en</td>\n",
       "      <td>us</td>\n",
       "    </tr>\n",
       "    <tr>\n",
       "      <th>2</th>\n",
       "      <td>engadget</td>\n",
       "      <td>Engadget</td>\n",
       "      <td>Engadget is a web magazine with obsessive dail...</td>\n",
       "      <td>https://www.engadget.com</td>\n",
       "      <td>technology</td>\n",
       "      <td>en</td>\n",
       "      <td>us</td>\n",
       "    </tr>\n",
       "    <tr>\n",
       "      <th>3</th>\n",
       "      <td>hacker-news</td>\n",
       "      <td>Hacker News</td>\n",
       "      <td>Hacker News is a social news website focusing ...</td>\n",
       "      <td>https://news.ycombinator.com</td>\n",
       "      <td>technology</td>\n",
       "      <td>en</td>\n",
       "      <td>us</td>\n",
       "    </tr>\n",
       "    <tr>\n",
       "      <th>4</th>\n",
       "      <td>recode</td>\n",
       "      <td>Recode</td>\n",
       "      <td>Get the latest independent tech news, reviews ...</td>\n",
       "      <td>http://www.recode.net</td>\n",
       "      <td>technology</td>\n",
       "      <td>en</td>\n",
       "      <td>us</td>\n",
       "    </tr>\n",
       "  </tbody>\n",
       "</table>\n",
       "</div>"
      ],
      "text/plain": [
       "                  id               name  \\\n",
       "0       ars-technica       Ars Technica   \n",
       "1  crypto-coins-news  Crypto Coins News   \n",
       "2           engadget           Engadget   \n",
       "3        hacker-news        Hacker News   \n",
       "4             recode             Recode   \n",
       "\n",
       "                                         description  \\\n",
       "0  The PC enthusiast's resource. Power users and ...   \n",
       "1  Providing breaking cryptocurrency news - focus...   \n",
       "2  Engadget is a web magazine with obsessive dail...   \n",
       "3  Hacker News is a social news website focusing ...   \n",
       "4  Get the latest independent tech news, reviews ...   \n",
       "\n",
       "                            url    category language country  \n",
       "0       https://arstechnica.com  technology       en      us  \n",
       "1           https://www.ccn.com  technology       en      us  \n",
       "2      https://www.engadget.com  technology       en      us  \n",
       "3  https://news.ycombinator.com  technology       en      us  \n",
       "4         http://www.recode.net  technology       en      us  "
      ]
     },
     "execution_count": 21,
     "metadata": {},
     "output_type": "execute_result"
    }
   ],
   "source": [
    "sources_df.head()"
   ]
  },
  {
   "cell_type": "code",
   "execution_count": 22,
   "id": "63d3cf0d",
   "metadata": {},
   "outputs": [
    {
     "name": "stdout",
     "output_type": "stream",
     "text": [
      "<class 'pandas.core.frame.DataFrame'>\n",
      "RangeIndex: 2547 entries, 0 to 2546\n",
      "Data columns (total 9 columns):\n",
      " #   Column       Non-Null Count  Dtype \n",
      "---  ------       --------------  ----- \n",
      " 0   author       2531 non-null   object\n",
      " 1   title        2547 non-null   object\n",
      " 2   description  2510 non-null   object\n",
      " 3   url          2547 non-null   object\n",
      " 4   urlToImage   2432 non-null   object\n",
      " 5   publishedAt  2547 non-null   object\n",
      " 6   content      2547 non-null   object\n",
      " 7   source.id    2547 non-null   object\n",
      " 8   source.name  2547 non-null   object\n",
      "dtypes: object(9)\n",
      "memory usage: 179.2+ KB\n"
     ]
    }
   ],
   "source": [
    "news_df.info()\n",
    "# Last row count: 2547"
   ]
  },
  {
   "cell_type": "code",
   "execution_count": null,
   "id": "06477bc7",
   "metadata": {},
   "outputs": [],
   "source": []
  }
 ],
 "metadata": {
  "kernelspec": {
   "display_name": "dev",
   "language": "python",
   "name": "dev"
  },
  "language_info": {
   "codemirror_mode": {
    "name": "ipython",
    "version": 3
   },
   "file_extension": ".py",
   "mimetype": "text/x-python",
   "name": "python",
   "nbconvert_exporter": "python",
   "pygments_lexer": "ipython3",
   "version": "3.12.3"
  }
 },
 "nbformat": 4,
 "nbformat_minor": 5
}
